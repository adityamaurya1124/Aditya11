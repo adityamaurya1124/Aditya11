{
 "cells": [
  {
   "cell_type": "code",
   "execution_count": 14,
   "id": "2a5b4a3f-b29d-4b07-bf9e-db6e7ec63ac9",
   "metadata": {},
   "outputs": [],
   "source": [
    "a=10\n",
    "if a>10:\n",
    "    print('yes a is greater than 10')"
   ]
  },
  {
   "cell_type": "code",
   "execution_count": 3,
   "id": "9c1f8de4-2e1d-4cfc-b5a6-834827cfb587",
   "metadata": {},
   "outputs": [
    {
     "data": {
      "text/plain": [
       "False"
      ]
     },
     "execution_count": 3,
     "metadata": {},
     "output_type": "execute_result"
    }
   ],
   "source": [
    "a>10"
   ]
  },
  {
   "cell_type": "code",
   "execution_count": 4,
   "id": "bc228a84-d73e-4ac8-9257-affabd73b538",
   "metadata": {},
   "outputs": [
    {
     "name": "stdout",
     "output_type": "stream",
     "text": [
      "yes a is greater than 10\n"
     ]
    }
   ],
   "source": [
    "a=10\n",
    "if a>=10:\n",
    "    print('yes a is greater than 10')"
   ]
  },
  {
   "cell_type": "code",
   "execution_count": 5,
   "id": "106f1f88-8c98-4774-bf10-746f110d791b",
   "metadata": {},
   "outputs": [
    {
     "data": {
      "text/plain": [
       "True"
      ]
     },
     "execution_count": 5,
     "metadata": {},
     "output_type": "execute_result"
    }
   ],
   "source": [
    "a>=10"
   ]
  },
  {
   "cell_type": "code",
   "execution_count": 6,
   "id": "3d05b4b0-b392-4155-8d46-f945549c4316",
   "metadata": {},
   "outputs": [
    {
     "name": "stdout",
     "output_type": "stream",
     "text": [
      "yes b is lesser than 40\n"
     ]
    }
   ],
   "source": [
    "b=20\n",
    "if b>30:\n",
    "    print('yes b is greater than 30')\n",
    "elif b<40:\n",
    "    print('yes b is lesser than 40')\n",
    "else :\n",
    "    print('this is my default')"
   ]
  },
  {
   "cell_type": "code",
   "execution_count": 7,
   "id": "f9f5409e-585b-49dd-aad2-6318eaeb02c1",
   "metadata": {},
   "outputs": [
    {
     "data": {
      "text/plain": [
       "False"
      ]
     },
     "execution_count": 7,
     "metadata": {},
     "output_type": "execute_result"
    }
   ],
   "source": [
    "b>30"
   ]
  },
  {
   "cell_type": "code",
   "execution_count": 8,
   "id": "2a7062d4-8eb1-45d4-8910-733c68204252",
   "metadata": {},
   "outputs": [
    {
     "data": {
      "text/plain": [
       "True"
      ]
     },
     "execution_count": 8,
     "metadata": {},
     "output_type": "execute_result"
    }
   ],
   "source": [
    "b<40"
   ]
  },
  {
   "cell_type": "code",
   "execution_count": 9,
   "id": "c2f96d46-063a-4599-82bf-5c1e56fb21aa",
   "metadata": {},
   "outputs": [
    {
     "name": "stdout",
     "output_type": "stream",
     "text": [
      "this is my default\n"
     ]
    }
   ],
   "source": [
    "b=20\n",
    "if b>30:\n",
    "    print('yes b is greater than 30')\n",
    "elif b>40:\n",
    "    print('yes b is lesser than 40')\n",
    "else :\n",
    "    print('this is my default')"
   ]
  },
  {
   "cell_type": "code",
   "execution_count": 10,
   "id": "5603d947-4a62-457b-8ad0-3fbc80b42bf4",
   "metadata": {},
   "outputs": [
    {
     "name": "stdout",
     "output_type": "stream",
     "text": [
      "this is my default\n"
     ]
    }
   ],
   "source": [
    "b=20\n",
    "if b>30:\n",
    "    print('yes b is greater than 30')\n",
    "elif b>40:\n",
    "    print('yes b is lesser than 40')\n",
    "elif b>100:\n",
    "    print('b is leer than 100')\n",
    "else :\n",
    "    print('this is my default')"
   ]
  },
  {
   "cell_type": "code",
   "execution_count": 11,
   "id": "3855f3a0-3ec5-423b-86ae-9b47c639c1bf",
   "metadata": {},
   "outputs": [
    {
     "name": "stdin",
     "output_type": "stream",
     "text": [
      "write value of b 2\n"
     ]
    },
    {
     "name": "stdout",
     "output_type": "stream",
     "text": [
      "this is my default\n"
     ]
    }
   ],
   "source": [
    "b=int(input('write value of b'))\n",
    "if b>30:\n",
    "    print('yes b is greater than 30')\n",
    "elif b>40:\n",
    "    print('yes b is lesser than 40')\n",
    "else :\n",
    "    print('this is my default')"
   ]
  },
  {
   "cell_type": "code",
   "execution_count": 12,
   "id": "606c6c9c-8160-45d0-8434-2a5d78dbcbf2",
   "metadata": {},
   "outputs": [
    {
     "name": "stdout",
     "output_type": "stream",
     "text": [
      "1\n",
      "2\n",
      "3\n"
     ]
    }
   ],
   "source": [
    "n=4\n",
    "i=1\n",
    "while i<n:\n",
    "    print(i)\n",
    "    i=i+1"
   ]
  },
  {
   "cell_type": "code",
   "execution_count": 13,
   "id": "78864ce0-ae93-43a4-963a-95e770d4b5ca",
   "metadata": {},
   "outputs": [
    {
     "name": "stdout",
     "output_type": "stream",
     "text": [
      "1\n",
      "2\n",
      "3\n",
      "4\n",
      "5\n",
      "6\n",
      "7\n",
      "8\n",
      "9\n"
     ]
    }
   ],
   "source": [
    "m=10\n",
    "h=1\n",
    "while h<m:\n",
    "    print(h)\n",
    "    h=h+1"
   ]
  },
  {
   "cell_type": "code",
   "execution_count": 16,
   "id": "3e1a43d4-92e8-4c6b-807e-96e09836d722",
   "metadata": {},
   "outputs": [
    {
     "name": "stdout",
     "output_type": "stream",
     "text": [
      "1\n",
      "2\n",
      "3\n",
      "thi is my else\n"
     ]
    }
   ],
   "source": [
    "n=4\n",
    "i=1\n",
    "while i<n:\n",
    "    print(i)\n",
    "    i=i+1\n",
    "else:    \n",
    "    print('thi is my else')"
   ]
  },
  {
   "cell_type": "code",
   "execution_count": 17,
   "id": "97b6f77b-05ed-474d-8557-173a6ce08704",
   "metadata": {},
   "outputs": [
    {
     "name": "stdout",
     "output_type": "stream",
     "text": [
      "1\n",
      "2\n"
     ]
    }
   ],
   "source": [
    "n=4\n",
    "i=1\n",
    "while i<n:\n",
    "    print(i)\n",
    "    i=i+1\n",
    "    if i==3:\n",
    "        break\n",
    "else:    \n",
    "    print('thi is my else')"
   ]
  },
  {
   "cell_type": "code",
   "execution_count": 19,
   "id": "e1ed91f8-ab34-427f-9aa4-4a5e3fc2cb85",
   "metadata": {},
   "outputs": [
    {
     "name": "stdout",
     "output_type": "stream",
     "text": [
      "a\n",
      "d\n",
      "i\n",
      "t\n",
      "y\n",
      "a\n"
     ]
    }
   ],
   "source": [
    "s='aditya'\n",
    "for i in s :\n",
    "    print(i)"
   ]
  },
  {
   "cell_type": "code",
   "execution_count": 24,
   "id": "a91b9fb7-eb17-4ba4-a5e3-b2febc2983e1",
   "metadata": {},
   "outputs": [
    {
     "name": "stdout",
     "output_type": "stream",
     "text": [
      "<class 'int'>\n",
      "<class 'int'>\n",
      "<class 'int'>\n",
      "<class 'int'>\n",
      "<class 'bool'>\n",
      "<class 'str'>\n",
      "<class 'float'>\n"
     ]
    }
   ],
   "source": [
    "d=[2,3,4,5,True,'aditya',44.4]\n",
    "for i in d:\n",
    "    print(type(i))"
   ]
  },
  {
   "cell_type": "code",
   "execution_count": 26,
   "id": "7dfe1aed-c4c2-4a90-a02a-4fe488a0ad39",
   "metadata": {},
   "outputs": [
    {
     "name": "stdout",
     "output_type": "stream",
     "text": [
      "<class 'int'>\n",
      "<class 'int'>\n",
      "<class 'int'>\n",
      "<class 'int'>\n",
      "<class 'bool'>\n",
      "<class 'str'>\n",
      "<class 'float'>\n",
      "sucessful\n"
     ]
    }
   ],
   "source": [
    "for i in d:\n",
    "    print(type(i))\n",
    "else:\n",
    "    print('sucessful')"
   ]
  },
  {
   "cell_type": "code",
   "execution_count": 27,
   "id": "7496e234-258c-48df-8e99-84b50ac40ef3",
   "metadata": {},
   "outputs": [
    {
     "name": "stdout",
     "output_type": "stream",
     "text": [
      "<class 'int'>\n",
      "<class 'int'>\n",
      "<class 'int'>\n"
     ]
    }
   ],
   "source": [
    "for i in d:\n",
    "    print(type(i))\n",
    "    if i==4:\n",
    "        break\n",
    "else:\n",
    "    print('sucessful')"
   ]
  },
  {
   "cell_type": "code",
   "execution_count": 28,
   "id": "3d79dbc2-5981-4abe-8abc-70fab3138ac6",
   "metadata": {},
   "outputs": [
    {
     "name": "stdout",
     "output_type": "stream",
     "text": [
      "<class 'int'>\n",
      "2\n",
      "<class 'int'>\n",
      "3\n",
      "<class 'int'>\n",
      "<class 'int'>\n",
      "5\n",
      "<class 'bool'>\n",
      "True\n",
      "<class 'str'>\n",
      "aditya\n",
      "<class 'float'>\n",
      "44.4\n",
      "sucessful\n"
     ]
    }
   ],
   "source": [
    "for i in d:\n",
    "    print(type(i))\n",
    "    if i==4:\n",
    "        continue\n",
    "    print(i)    \n",
    "else:\n",
    "    print('sucessful')"
   ]
  },
  {
   "cell_type": "code",
   "execution_count": 29,
   "id": "999c65cd-166a-4f2c-915e-2b7fa3f29f95",
   "metadata": {},
   "outputs": [
    {
     "data": {
      "text/plain": [
       "range(0, 10)"
      ]
     },
     "execution_count": 29,
     "metadata": {},
     "output_type": "execute_result"
    }
   ],
   "source": [
    "range(10)"
   ]
  },
  {
   "cell_type": "code",
   "execution_count": null,
   "id": "f0ca0515-bb40-420f-98c7-d72e83ea0fbf",
   "metadata": {},
   "outputs": [],
   "source": [
    "t"
   ]
  }
 ],
 "metadata": {
  "kernelspec": {
   "display_name": "Python 3 (ipykernel)",
   "language": "python",
   "name": "python3"
  },
  "language_info": {
   "codemirror_mode": {
    "name": "ipython",
    "version": 3
   },
   "file_extension": ".py",
   "mimetype": "text/x-python",
   "name": "python",
   "nbconvert_exporter": "python",
   "pygments_lexer": "ipython3",
   "version": "3.10.8"
  }
 },
 "nbformat": 4,
 "nbformat_minor": 5
}
